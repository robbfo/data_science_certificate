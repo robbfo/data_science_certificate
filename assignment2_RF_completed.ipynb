{
 "cells": [
  {
   "cell_type": "markdown",
   "metadata": {},
   "source": [
    "Before you turn this problem in, make sure everything runs as expected. First, **restart the kernel** (in the menu bar, select Kernel$\\rightarrow$Restart) and then **run all cells** (in the menu bar, select Cell$\\rightarrow$Run All).\n",
    "\n",
    "Make sure that in addition to the code, you provide written answers for all questions of the assignment. \n",
    "\n",
    "Below, please fill in your name and collaborators:"
   ]
  },
  {
   "cell_type": "code",
   "execution_count": 1,
   "metadata": {},
   "outputs": [],
   "source": [
    "NAME = \"Robert Fournier\"\n",
    "COLLABORATORS = \"\""
   ]
  },
  {
   "cell_type": "markdown",
   "metadata": {},
   "source": [
    "## Assignment 2 - Data Analysis using Pandas\n",
    "**(15 points total)**"
   ]
  },
  {
   "cell_type": "markdown",
   "metadata": {},
   "source": [
    "For this assignment, we will analyze the open dataset with data on the passengers aboard the Titanic.\n",
    "\n",
    "The data file for this assignment can be downloaded from Kaggle website: https://www.kaggle.com/c/titanic/data, file `train.csv`. It is also attached to the assignment page. The definition of all variables can be found on the same Kaggle page, in the Data Dictionary section.\n",
    "\n",
    "Read the data from the file into pandas DataFrame. Analyze, clean and transform the data to answer the following question: \n",
    "\n",
    "**What categories of passengers were most likely to survive the Titanic disaster?**"
   ]
  },
  {
   "cell_type": "markdown",
   "metadata": {},
   "source": [
    "**Question 1.**  _(4 points)_\n",
    "* The answer to the main question - What categories of passengers were most likely to survive the Titanic disaster? _(2 points)_\n",
    "* The detailed explanation of the logic of the analysis _(2 points)_\n",
    "\n",
    "**Question 2.**  _(3 points)_\n",
    "* What other attributes did you use for the analysis? Explain how you used them and why you decided to use them. \n",
    "* Provide a complete list of all attributes used.\n",
    "\n",
    "**Question 3.**  _(3 points)_\n",
    "* Did you engineer any attributes (created new attributes)? If yes, explain the rationale and how the new attributes were used in the analysis?\n",
    "* If you have excluded any attributes from the analysis, provide an explanation why you believe they can be excluded.\n",
    "\n",
    "**Question 4.**  _(5 points)_\n",
    "* How did you treat missing values for those attributes that you included in the analysis (for example, `age` attribute)? Provide a detailed explanation in the comments.\n"
   ]
  },
  {
   "cell_type": "markdown",
   "metadata": {},
   "source": [
    "# Answers to Questions\n",
    "\n",
    "(Work is shown below)\n",
    "\n",
    "### Question 1. \n",
    "\n",
    "**Part 1 - Results**\n",
    "_(See the chart below for the Survived correlation for each feature)_\n",
    "\n",
    "The passengers most likely to survive the Titanic were those who were:\n",
    "* married women with 'Mrs.' in their listed name (33.78% correlation to Survived),\n",
    "* those with longer names (mostly associated with women as it includes their maiden names, 33.2% correlation to Survived),\n",
    "* unmarried women with 'Miss.' in theur listed name (32.6% correlation to Survived),\n",
    "* passengers in Class 1 (28.2% correlation to Survived),\n",
    "* passengers who paid fare above median (14.45, 26.5%), passengers who paid above average for their fare (32.09, 24%) and in general those who paid more for their fare (25.2%)\n",
    "* those who embarked in Cherbourg (17%)\n",
    "* those who were in cabins with 'B' in the cabin number (16.7%), 'E' or 'D' in the cabin number (15.1%), or 'C' (11%). In fact, cabin numbers with F have a weak correlation (5%) and A has a very weak correlation (2%). For the most part, having a letter in the cabin number denotes a very weak to relatively strong correlation. Only cabins with the letter 'G' have a very weak negative correlation to Survived (-2%). But, having no cabin number assigned provides a disastrious correlation to Survived (-31.3%).\n",
    "\n",
    "The category of passenger most likely to survive the Titantic were passengers with a listed name including \"Mrs.\", in passenger class 1, and paid a fare above median (14.45). Out of 18 passengers fitting the category, only 1 perished in the disaster. Adding in the criteria \n",
    "\n",
    "**Part 2 - Explanation**\n",
    "\n",
    "The analysis focused on building strong features to explain the data through feature discovery and cleaning. Each original feature was analyzed to determine whether it required cleaning (null values or unuseable data) and whether it could be mined for new synthetic features.\n",
    "\n",
    "This took place in the following order (which viewable in the code contained below).\n",
    "\n",
    "* **Data Importation and Initial Discovery** - during this phase the data was imported and initial discovery on the columns was completed. \n",
    "* **Data Cleaning and Imputation** - during this phase, the dataset was cleaned to remove some null values while other features with nulls were either imputated with relevant values, or created new binary features indicating whether it was null or not.\n",
    "* **Feature Engineering** - with the dataset cleaned, attention was focused on how to properly indicate certain features, including turning several into binary features and bucketing other features into binary features for quick and certain correlation.\n",
    "* **Data Analysis and Correlation** - in this phase, the dataset is run through Pandas correlation method and a visual analysis is performed on some key metrics of survival. \n",
    "\n",
    "It should be noted here that there is a lot of redundancy and correlation between the variables and features used. This was achieved on purpose with 29 columns for initial exploration and a wide analysis.\n",
    "\n",
    "**Please see the work below for detailed commentary during these processes to this question.**\n",
    "\n",
    "### Question 2.\n",
    "\n",
    "**Part 1 - What features were used?**\n",
    "\n",
    "This shallow analysis was performed on a generally wide set of features for the titanic dataframe. Including binary buckets of existing features, there were a **total of 31 columns** in the final version of the dataset run for correlation. \n",
    "\n",
    "Here are some key decisions made on features:\n",
    "* **Embarked** - turned into 3 binary bucket features depending on whether the passenger embarked in C = Cherbourg, Q = Queenstown, S = Southampton\n",
    "* **Name** - was the source of a number of new features engineered. It was used to mine for salutations (Mr., Mrs., Miss.) as well as draw details on name length. In the end, these features mostly were further analysis into the gender - where there was a very high correlation between female salutions and female sex, as well as the Mrs. salutation and the length of a name. While it was ultimately highly correlated to gender, it was valuable to attempt to gain more concise and nuanced insights into the clear gender factor determining survival.\n",
    "* **Sex** - this was turned into a binary feature where 1 is Male and 0 is Female\n",
    "* **Ticket** - insights were gained from ticket through feature engineering a binary bucket based on whether the feature contained a letter or not.\n",
    "* **Fare** - was turned into several binary buckets that determined if the fare was above mean, median or below the bottom quartile. In addition, true fare was left in as well as a continuous value.\n",
    "* **Cabin** - given the sheer volume of nulls in the cabin feature a new feature was engineered that was binary on if the cabin feature was null or not. \n",
    "* **Embarked** - three binary buckets were created to check whether the passenger boarded in each of the three possible embarkment ports.\n",
    "* **Pclass** - turned from a continuous value column into 3 binary bucket columns depending on the class. \n",
    "\n",
    "The decision was made to apply a **wide** and **shallow** analysis of the data to identify interesting points. For that reason, the design of this data analysis was focused on feature engineering and not feature reduction or simplification. In that objective, there are interesting details regarding the survivors gleaned from these new features - including a surprising slightly higher survival rate of the Mrs. salutation vs the Miss. salutation. \n",
    "\n",
    "**Part 2 - List of all features**\n",
    "\n",
    "See cell number 19 for the code to run this item. The output:\n",
    "\n",
    "'Survived', 'SibSp', 'Parch', 'Fare', 'AgeNull', 'AgeImputation',\n",
    "       'CabinCode_A', 'CabinCode_B', 'CabinCode_C', 'CabinCode_D',\n",
    "       'CabinCode_E', 'CabinCode_F', 'CabinCode_G', 'CabinNull', 'GenderCode',\n",
    "       'Embarked_S', 'Embarked_Q', 'Embarked_C', 'Pclass_3', 'Pclass_1',\n",
    "       'Pclass_2', 'AgeAboveAvg', 'AgeBelowQuartile', 'FareAboveAvg',\n",
    "       'FareAboveMedian', 'FareBelowQuartile', 'Mr.', 'Miss.', 'Mrs.',\n",
    "       'NameLength', 'LetterTicket'\n",
    "       \n",
    "### Question 3.\n",
    "\n",
    "**Part 1 - Engineered any attributes?**\n",
    "\n",
    "Yes - there were a total of 23 features engineered in the analysis. There were also 3 features that were updated from their original through either binary encoding or data imputation for null values. Each of the features:\n",
    "\n",
    "* **AgeNull, AgeImputation** - both are sourced from the Age column. Given the hypothesis that Age is an important feature in the dataset, the decision was made to keep the Age column despite 179 null values upon read. An analysis of the Age variable in cell number 4 indicated that mean age differed depending on class. The Age feature went through data imputation that inserted the mean age for the passenger's class into their AgeImputation feature if Age was blank, or copied the Age variable if the passenger had one in the first place. Since our objective was a wide and shallow analysis, to document the nulls a binary AgeNull feature was created.\n",
    "* **AgeAboveAvg, AgeBelowQuartile** - as examined in cell 10, the average and median ages of passengers are roughly the same. Using the AgeImputation feature as the source, these were two new variables engineered to be binary buckets indicating if the passenger was above the average age (29) or under the bottom quartile of ages (22). \n",
    "* **CabinCode_X, CabinNull** - where X is A - G. Since a discovery analysis of the Cabin feature in cell 6 detailed that many of the cabin numbers that were not blank were with an accompanying cabin letter code, likely signifying a location in the Titanic, the decision was made to keep the Cabin feature but feature engineer it into binary buckets for each possible letter in the cabin number - from A through G. As above, the CabinNull feature was also created to capture passengers with no assigned cabin number.\n",
    "* **Embarked_X** - where X is S, Q, or C. The Embarked variable already contained this information, but to properly assess the impact on port of embarkment on survival, Embarked was feature engineered to three binary encoded variables. \n",
    "* **Pclass_X** - where X is 1, 2 or 3. This is similar to above discussion. While Pclass was an integer column already on read, it would be treated as a continuous value for comparison purposes if left in the original column. Encoding it into three separate binary features, one for each passenger class, allows for more certain and precise analysis on the effect of each class on passenger survival. If preparing for machine learning, a categorical encoding may be more suitable.\n",
    "* **FareAboveAvg, FareAboveMedian, FareBelowQuartile** - these 3 features were engineered as binary buckets of the Fare column. This was based on three statistics on the Fare feature - average fare paid (32), median fare (14), bottom quartile of fares (7.89). The binary features were created to allow for a more concise exploratory evaluation of the passenger survival. Allowing a binary column allows us to more precisely state that if a passenger paid above the average fare (32 dollars), they had a 0.24 correlation to surviving. This is compared to a continuous variable such as the original fare which provides the still useful, but more broad, hypothesis that paying a higher fare leads to a better chance at surviving (0.25 correlation). Adding the buckets can allow for more compartmentalized and specific hypotheses for future analyses. \n",
    "* **Mrs., Mr., Miss.** - these three features were engineered based on basic NLP evaluation of the Name variable - a binary encoding of whether Name contained the relative salutation. While the objective was to explore the dataset, these variables ended up having a near perfect correlation with GenderCode, and Miss. and Mrs. very close correlation between themselves. In a machine learning model training dataset, I would look to reduce highly correlated features such as these.\n",
    "* **NameLength** - similar to the above, this ended up being almost perfectly correlated to the Mrs. feature engineered above. An examination of the sample proves that this is due to the maiden name of married women being included in the name feature. In the end, this was yet another alternative to GenderCode and had a high correlation to that feature. Another example of a potential feature reduction for machine learning. \n",
    "* **GenderCode** - a binary encoding of the Sex feature where 1 is male and 0 is female. This was to allow for mathematical analysis and correlation statistics for the feature. In the end, this was highly correlated to other engineered features (Mrs., Miss., Mr., NameLength). \n",
    "* **LetterTicket** - a binary feature engineered to determine if the ticket for the customer included a letter. This ended up being correlated to fare, passenger class 1, and other manners of explaining the relative wealth or status of the passenger. \n",
    "\n",
    "It should be reiterated here that these features were engineered for explanatory purposes and if this dataset was to be used for a machine learning model, features would be eliminated where high correlation exists between them (especially in areas of explaining passenger gender, or passenger status). \n",
    "\n",
    "**Part 2 - Features eliminated.**\n",
    "\n",
    "There were 10 columns dropped in the dataframe in cell 13. Most of the columns dropped were due to new features created to clean or encode their data (ex. Sex was dropped as GenderCode contained the same data, just in binary encoded format). \n",
    "\n",
    "Each dropped feature:\n",
    "* **PassengerID** - given that the passengerID is assigned randomly, this feature will not be useful for the analysis. \n",
    "* **Pclass** - dropped due to feature engineering of the data into new binary variables (Pclass_1, Pclass_2, Pclass_3).\n",
    "* **Name** - dropped as is string and not encoded nor applicable for this analysis. Features were engineered to encode the data into other manners (NameLength, Mr., Mrs., Miss.). \n",
    "* **Sex** - dropped as encoded into GenderCode variable\n",
    "* **Age** - dropped as it contained null values that were imputated into AgeImputation\n",
    "* **Ticket** - dropped as it a string variable. Encoded into binary classification LetterTicket.\n",
    "* **Cabin** - dropped as it contains nulls and varied types. Engineered into CabinNull, CabinCode set of features\n",
    "* **Embarked** - dropped as it is now encoded into three variables based on port of embarkment.\n",
    "\n",
    "Note that two records were also dropped from the DataFrame for the Embarked null values. Given the few quantity, the decision was made to simply remove those passengers from this analysis. \n",
    "\n",
    "### Question 4.\n",
    "\n",
    "For the work in this section, please see cells 4 to 8. \n",
    "\n",
    "The following features contained nulls and were cleaned through a few methods:\n",
    "\n",
    "* **Cabin** - there were 787 null values. These were engineered into a new CabinNull column for exploration purposes, under the null hypothesis that there is not a connection between a null cabin and survival. This hypothesis was tested and proven incorrect. The validated hypothesis is that CabinNull indicated a passenger's lower class and fare, and negatively correlated to survival. The original cabin feature was dropped. \n",
    "* **Age** - there were 177 null values. These were cleaned through data imputation as the means for the class of the passenger was substituted for null values in a new feature called AgeImputation. This was done to preserve the Age category. Note that the nulls were also placed in AgeNull under the null hypothesis that there is little correlation between a missing Age value and survived. This was proved incorrect as the AgeNull category was -0.09 correlated to Survived. \n",
    "* **Embarked** - there were 2 null values. These records (rows) were removed as there was not sufficient data points to create a binary column, and there was not a realistic imputation based on the other categories. "
   ]
  },
  {
   "cell_type": "markdown",
   "metadata": {},
   "source": [
    "## Work and Analysis"
   ]
  },
  {
   "cell_type": "markdown",
   "metadata": {},
   "source": [
    "### Importing Libraries and Data"
   ]
  },
  {
   "cell_type": "code",
   "execution_count": 2,
   "metadata": {},
   "outputs": [
    {
     "data": {
      "text/html": [
       "<div>\n",
       "<style scoped>\n",
       "    .dataframe tbody tr th:only-of-type {\n",
       "        vertical-align: middle;\n",
       "    }\n",
       "\n",
       "    .dataframe tbody tr th {\n",
       "        vertical-align: top;\n",
       "    }\n",
       "\n",
       "    .dataframe thead th {\n",
       "        text-align: right;\n",
       "    }\n",
       "</style>\n",
       "<table border=\"1\" class=\"dataframe\">\n",
       "  <thead>\n",
       "    <tr style=\"text-align: right;\">\n",
       "      <th></th>\n",
       "      <th>PassengerId</th>\n",
       "      <th>Survived</th>\n",
       "      <th>Pclass</th>\n",
       "      <th>Name</th>\n",
       "      <th>Sex</th>\n",
       "      <th>Age</th>\n",
       "      <th>SibSp</th>\n",
       "      <th>Parch</th>\n",
       "      <th>Ticket</th>\n",
       "      <th>Fare</th>\n",
       "      <th>Cabin</th>\n",
       "      <th>Embarked</th>\n",
       "    </tr>\n",
       "  </thead>\n",
       "  <tbody>\n",
       "    <tr>\n",
       "      <th>0</th>\n",
       "      <td>1</td>\n",
       "      <td>0</td>\n",
       "      <td>3</td>\n",
       "      <td>Braund, Mr. Owen Harris</td>\n",
       "      <td>male</td>\n",
       "      <td>22.0</td>\n",
       "      <td>1</td>\n",
       "      <td>0</td>\n",
       "      <td>A/5 21171</td>\n",
       "      <td>7.2500</td>\n",
       "      <td>NaN</td>\n",
       "      <td>S</td>\n",
       "    </tr>\n",
       "    <tr>\n",
       "      <th>1</th>\n",
       "      <td>2</td>\n",
       "      <td>1</td>\n",
       "      <td>1</td>\n",
       "      <td>Cumings, Mrs. John Bradley (Florence Briggs Th...</td>\n",
       "      <td>female</td>\n",
       "      <td>38.0</td>\n",
       "      <td>1</td>\n",
       "      <td>0</td>\n",
       "      <td>PC 17599</td>\n",
       "      <td>71.2833</td>\n",
       "      <td>C85</td>\n",
       "      <td>C</td>\n",
       "    </tr>\n",
       "    <tr>\n",
       "      <th>2</th>\n",
       "      <td>3</td>\n",
       "      <td>1</td>\n",
       "      <td>3</td>\n",
       "      <td>Heikkinen, Miss. Laina</td>\n",
       "      <td>female</td>\n",
       "      <td>26.0</td>\n",
       "      <td>0</td>\n",
       "      <td>0</td>\n",
       "      <td>STON/O2. 3101282</td>\n",
       "      <td>7.9250</td>\n",
       "      <td>NaN</td>\n",
       "      <td>S</td>\n",
       "    </tr>\n",
       "    <tr>\n",
       "      <th>3</th>\n",
       "      <td>4</td>\n",
       "      <td>1</td>\n",
       "      <td>1</td>\n",
       "      <td>Futrelle, Mrs. Jacques Heath (Lily May Peel)</td>\n",
       "      <td>female</td>\n",
       "      <td>35.0</td>\n",
       "      <td>1</td>\n",
       "      <td>0</td>\n",
       "      <td>113803</td>\n",
       "      <td>53.1000</td>\n",
       "      <td>C123</td>\n",
       "      <td>S</td>\n",
       "    </tr>\n",
       "    <tr>\n",
       "      <th>4</th>\n",
       "      <td>5</td>\n",
       "      <td>0</td>\n",
       "      <td>3</td>\n",
       "      <td>Allen, Mr. William Henry</td>\n",
       "      <td>male</td>\n",
       "      <td>35.0</td>\n",
       "      <td>0</td>\n",
       "      <td>0</td>\n",
       "      <td>373450</td>\n",
       "      <td>8.0500</td>\n",
       "      <td>NaN</td>\n",
       "      <td>S</td>\n",
       "    </tr>\n",
       "  </tbody>\n",
       "</table>\n",
       "</div>"
      ],
      "text/plain": [
       "   PassengerId  Survived  Pclass  \\\n",
       "0            1         0       3   \n",
       "1            2         1       1   \n",
       "2            3         1       3   \n",
       "3            4         1       1   \n",
       "4            5         0       3   \n",
       "\n",
       "                                                Name     Sex   Age  SibSp  \\\n",
       "0                            Braund, Mr. Owen Harris    male  22.0      1   \n",
       "1  Cumings, Mrs. John Bradley (Florence Briggs Th...  female  38.0      1   \n",
       "2                             Heikkinen, Miss. Laina  female  26.0      0   \n",
       "3       Futrelle, Mrs. Jacques Heath (Lily May Peel)  female  35.0      1   \n",
       "4                           Allen, Mr. William Henry    male  35.0      0   \n",
       "\n",
       "   Parch            Ticket     Fare Cabin Embarked  \n",
       "0      0         A/5 21171   7.2500   NaN        S  \n",
       "1      0          PC 17599  71.2833   C85        C  \n",
       "2      0  STON/O2. 3101282   7.9250   NaN        S  \n",
       "3      0            113803  53.1000  C123        S  \n",
       "4      0            373450   8.0500   NaN        S  "
      ]
     },
     "execution_count": 2,
     "metadata": {},
     "output_type": "execute_result"
    }
   ],
   "source": [
    "# Let's set up the libraries we'll be using for this analysis\n",
    "\n",
    "import pandas as pd # This is the Pandas library for data management and analysis\n",
    "import matplotlib.pyplot as plt # Matplotlib is for data visualization\n",
    "import seaborn as sns # Seaborn is another data visualization library\n",
    "\n",
    "# Next, let's read in the titanic data saved to the local drive and sneak a peek at the data\n",
    "titanic_df = pd.read_csv(\"./Module 2/titanic/train.csv\")\n",
    "titanic_df.head()"
   ]
  },
  {
   "cell_type": "code",
   "execution_count": 3,
   "metadata": {},
   "outputs": [
    {
     "name": "stdout",
     "output_type": "stream",
     "text": [
      "<class 'pandas.core.frame.DataFrame'>\n",
      "RangeIndex: 891 entries, 0 to 890\n",
      "Data columns (total 12 columns):\n",
      " #   Column       Non-Null Count  Dtype  \n",
      "---  ------       --------------  -----  \n",
      " 0   PassengerId  891 non-null    int64  \n",
      " 1   Survived     891 non-null    int64  \n",
      " 2   Pclass       891 non-null    int64  \n",
      " 3   Name         891 non-null    object \n",
      " 4   Sex          891 non-null    object \n",
      " 5   Age          714 non-null    float64\n",
      " 6   SibSp        891 non-null    int64  \n",
      " 7   Parch        891 non-null    int64  \n",
      " 8   Ticket       891 non-null    object \n",
      " 9   Fare         891 non-null    float64\n",
      " 10  Cabin        204 non-null    object \n",
      " 11  Embarked     889 non-null    object \n",
      "dtypes: float64(2), int64(5), object(5)\n",
      "memory usage: 83.7+ KB\n",
      "None Survived\n",
      "0    549\n",
      "1    342\n",
      "Name: PassengerId, dtype: int64\n"
     ]
    },
    {
     "data": {
      "text/plain": [
       "<matplotlib.axes._subplots.AxesSubplot at 0x1d3d738a390>"
      ]
     },
     "execution_count": 3,
     "metadata": {},
     "output_type": "execute_result"
    },
    {
     "data": {
      "image/png": "[encoded data removed]",
      "text/plain": [
       "<Figure size 432x288 with 1 Axes>"
      ]
     },
     "metadata": {
      "needs_background": "light"
     },
     "output_type": "display_data"
    }
   ],
   "source": [
    "# First, let's take a look at the more detailed statistics of the dataframe. Our key points\n",
    "# are the number of null values in each column at this point, as well as understanding\n",
    "# overall information on survivors.\n",
    "\n",
    "print(titanic_df.info(),\n",
    "      titanic_df.groupby(\"Survived\").count()['PassengerId'])\n",
    "\n",
    "# View distribution of Survived column\n",
    "titanic_df['Survived'].hist()"
   ]
  },
  {
   "cell_type": "markdown",
   "metadata": {},
   "source": [
    "### Data Cleaning and Imputation"
   ]
  },
  {
   "cell_type": "code",
   "execution_count": 4,
   "metadata": {},
   "outputs": [
    {
     "name": "stdout",
     "output_type": "stream",
     "text": [
      "<class 'pandas.core.frame.DataFrame'>\n",
      "Int64Index: 889 entries, 0 to 890\n",
      "Data columns (total 12 columns):\n",
      " #   Column       Non-Null Count  Dtype  \n",
      "---  ------       --------------  -----  \n",
      " 0   PassengerId  889 non-null    int64  \n",
      " 1   Survived     889 non-null    int64  \n",
      " 2   Pclass       889 non-null    int64  \n",
      " 3   Name         889 non-null    object \n",
      " 4   Sex          889 non-null    object \n",
      " 5   Age          712 non-null    float64\n",
      " 6   SibSp        889 non-null    int64  \n",
      " 7   Parch        889 non-null    int64  \n",
      " 8   Ticket       889 non-null    object \n",
      " 9   Fare         889 non-null    float64\n",
      " 10  Cabin        202 non-null    object \n",
      " 11  Embarked     889 non-null    object \n",
      "dtypes: float64(2), int64(5), object(5)\n",
      "memory usage: 90.3+ KB\n",
      "None count     889\n",
      "unique      3\n",
      "top         S\n",
      "freq      644\n",
      "Name: Embarked, dtype: object\n"
     ]
    }
   ],
   "source": [
    "# There are 2 rows with the Embarked data missing. We'll intervene at this stage and remove\n",
    "# those 2 outliers from the analysis\n",
    "\n",
    "titanic_df = titanic_df.loc[~titanic_df['Embarked'].isnull(), :]\n",
    "\n",
    "print(titanic_df.info(),\n",
    "     titanic_df['Embarked'].describe())"
   ]
  },
  {
   "cell_type": "code",
   "execution_count": 5,
   "metadata": {},
   "outputs": [
    {
     "name": "stdout",
     "output_type": "stream",
     "text": [
      "count    712.000000\n",
      "mean      29.642093\n",
      "std       14.492933\n",
      "min        0.420000\n",
      "25%       20.000000\n",
      "50%       28.000000\n",
      "75%       38.000000\n",
      "max       80.000000\n",
      "Name: Age, dtype: float64\n"
     ]
    },
    {
     "data": {
      "image/png": "[encoded data removed]",
      "text/plain": [
       "<Figure size 432x288 with 9 Axes>"
      ]
     },
     "metadata": {
      "needs_background": "light"
     },
     "output_type": "display_data"
    },
    {
     "name": "stdout",
     "output_type": "stream",
     "text": [
      "count    184.000000\n",
      "mean      38.105543\n",
      "std       14.778904\n",
      "min        0.920000\n",
      "25%       27.000000\n",
      "50%       37.000000\n",
      "75%       49.000000\n",
      "max       80.000000\n",
      "Name: Age, dtype: float64\n",
      "37.0\n",
      "count    173.000000\n",
      "mean      29.877630\n",
      "std       14.001077\n",
      "min        0.670000\n",
      "25%       23.000000\n",
      "50%       29.000000\n",
      "75%       36.000000\n",
      "max       70.000000\n",
      "Name: Age, dtype: float64\n",
      "29.0\n",
      "count    355.000000\n",
      "mean      25.140620\n",
      "std       12.495398\n",
      "min        0.420000\n",
      "25%       18.000000\n",
      "50%       24.000000\n",
      "75%       32.000000\n",
      "max       74.000000\n",
      "Name: Age, dtype: float64\n",
      "24.0\n"
     ]
    }
   ],
   "source": [
    "# The next problem feature is age, which has 179 missing values. Let's explore the details \n",
    "# of the age feature.\n",
    "\n",
    "print(titanic_df['Age'].describe())\n",
    "\n",
    "# Let's review the characteristics of those who are missing age\n",
    "titanic_df[titanic_df['Age'].isnull()].hist()\n",
    "plt.show()\n",
    "\n",
    "# And let's consider the statistics on age based on Pclass feature\n",
    "for cl in [1, 2, 3]:\n",
    "    print(titanic_df[~(titanic_df['Age'].isnull()) & (titanic_df['Pclass'] == cl)]['Age'].describe())\n",
    "    print(titanic_df[~(titanic_df['Age'].isnull()) & (titanic_df['Pclass'] == cl)]['Age'].median())\n"
   ]
  },
  {
   "cell_type": "code",
   "execution_count": 6,
   "metadata": {},
   "outputs": [],
   "source": [
    "# Given that the overall survivor ratio for these null values is similar to the general survivor\n",
    "# ratio, we will include the null values and imputate a filler value into age. However, since there\n",
    "# may be a reason the data was null, we will first create a binary feature for AgeNull.\n",
    "\n",
    "# First, new binary feature for age nulls\n",
    "titanic_df['AgeNull'] = titanic_df['Age'].isnull().astype(\"category\").cat.codes\n",
    "\n",
    "# Second, impute the mean age for each class of passenger\n",
    "\n",
    "titanic_df['AgeImputation'] = titanic_df['Age']\n",
    "for cl in [1, 2, 3]:\n",
    "    titanic_df.loc[(titanic_df['AgeImputation'].isnull()) & (titanic_df['Pclass'] == cl), 'AgeImputation'] = \\\n",
    "        titanic_df.loc[~(titanic_df['Age'].isnull()) & (titanic_df['Pclass'] == cl), 'Age'].mean()"
   ]
  },
  {
   "cell_type": "code",
   "execution_count": 7,
   "metadata": {},
   "outputs": [
    {
     "name": "stdout",
     "output_type": "stream",
     "text": [
      "count         202\n",
      "unique        146\n",
      "top       B96 B98\n",
      "freq            4\n",
      "Name: Cabin, dtype: object\n",
      "[nan 'C85' 'C123' 'E46' 'G6' 'C103' 'D56' 'A6' 'C23 C25 C27' 'B78' 'D33'\n",
      " 'B30' 'C52' 'C83' 'F33' 'F G73' 'E31' 'A5' 'D10 D12' 'D26' 'C110'\n",
      " 'B58 B60' 'E101' 'F E69' 'D47' 'B86' 'F2' 'C2' 'E33' 'B19' 'A7' 'C49'\n",
      " 'F4' 'A32' 'B4' 'B80' 'A31' 'D36' 'D15' 'C93' 'C78' 'D35' 'C87' 'B77'\n",
      " 'E67' 'B94' 'C125' 'C99' 'C118' 'D7' 'A19' 'B49' 'D' 'C22 C26' 'C106'\n",
      " 'C65' 'E36' 'C54' 'B57 B59 B63 B66' 'C7' 'E34' 'C32' 'B18' 'C124' 'C91'\n",
      " 'E40' 'T' 'C128' 'D37' 'B35' 'E50' 'C82' 'B96 B98' 'E10' 'E44' 'A34'\n",
      " 'C104' 'C111' 'C92' 'E38' 'D21' 'E12' 'E63' 'A14' 'B37' 'C30' 'D20' 'B79'\n",
      " 'E25' 'D46' 'B73' 'C95' 'B38' 'B39' 'B22' 'C86' 'C70' 'A16' 'C101' 'C68'\n",
      " 'A10' 'E68' 'B41' 'A20' 'D19' 'D50' 'D9' 'A23' 'B50' 'A26' 'D48' 'E58'\n",
      " 'C126' 'B71' 'B51 B53 B55' 'D49' 'B5' 'B20' 'F G63' 'C62 C64' 'E24' 'C90'\n",
      " 'C45' 'E8' 'B101' 'D45' 'C46' 'D30' 'E121' 'D11' 'E77' 'F38' 'B3' 'D6'\n",
      " 'B82 B84' 'D17' 'A36' 'B102' 'B69' 'E49' 'C47' 'D28' 'E17' 'A24' 'C50'\n",
      " 'B42' 'C148']\n"
     ]
    },
    {
     "data": {
      "image/png": "[encoded data removed]",
      "text/plain": [
       "<Figure size 432x288 with 9 Axes>"
      ]
     },
     "metadata": {
      "needs_background": "light"
     },
     "output_type": "display_data"
    },
    {
     "data": {
      "image/png": "[encoded data removed]",
      "text/plain": [
       "<Figure size 432x288 with 9 Axes>"
      ]
     },
     "metadata": {
      "needs_background": "light"
     },
     "output_type": "display_data"
    },
    {
     "name": "stdout",
     "output_type": "stream",
     "text": [
      "\n",
      "\n",
      "Data on Cabin series A\n",
      "\n",
      "\n",
      "       PassengerId   Survived  Pclass        Age      SibSp      Parch  \\\n",
      "count    15.000000  15.000000    15.0  12.000000  15.000000  15.000000   \n",
      "mean    439.600000   0.466667     1.0  44.833333   0.133333   0.133333   \n",
      "std     262.044653   0.516398     0.0  20.171237   0.351866   0.516398   \n",
      "min      24.000000   0.000000     1.0   4.000000   0.000000   0.000000   \n",
      "25%     198.000000   0.000000     1.0  34.750000   0.000000   0.000000   \n",
      "50%     476.000000   0.000000     1.0  44.000000   0.000000   0.000000   \n",
      "75%     615.500000   1.000000     1.0  56.000000   0.000000   0.000000   \n",
      "max     868.000000   1.000000     1.0  80.000000   1.000000   2.000000   \n",
      "\n",
      "            Fare    AgeNull  AgeImputation  \n",
      "count  15.000000  15.000000      15.000000  \n",
      "mean   39.623887   0.200000      43.487775  \n",
      "std    17.975333   0.414039      18.095576  \n",
      "min     0.000000   0.000000       4.000000  \n",
      "25%    30.847900   0.000000      37.052772  \n",
      "50%    35.500000   0.000000      39.000000  \n",
      "75%    50.247900   0.000000      52.500000  \n",
      "max    81.858300   1.000000      80.000000  \n",
      "\n",
      "\n",
      "Data on Cabin series B\n",
      "\n",
      "\n",
      "       PassengerId   Survived  Pclass        Age      SibSp      Parch  \\\n",
      "count    45.000000  45.000000    45.0  43.000000  45.000000  45.000000   \n",
      "mean    525.177778   0.733333     1.0  34.255814   0.377778   0.600000   \n",
      "std     244.535858   0.447214     0.0  15.273839   0.575598   0.780443   \n",
      "min      32.000000   0.000000     1.0  11.000000   0.000000   0.000000   \n",
      "25%     312.000000   0.000000     1.0  23.000000   0.000000   0.000000   \n",
      "50%     540.000000   1.000000     1.0  32.000000   0.000000   0.000000   \n",
      "75%     743.000000   1.000000     1.0  44.000000   1.000000   1.000000   \n",
      "max     888.000000   1.000000     1.0  70.000000   2.000000   2.000000   \n",
      "\n",
      "             Fare    AgeNull  AgeImputation  \n",
      "count   45.000000  45.000000      45.000000  \n",
      "mean   114.994909   0.044444      34.426913  \n",
      "std    111.519318   0.208409      14.944222  \n",
      "min      0.000000   0.000000      11.000000  \n",
      "25%     57.000000   0.000000      24.000000  \n",
      "50%     79.200000   0.000000      33.000000  \n",
      "75%    120.000000   0.000000      44.000000  \n",
      "max    512.329200   1.000000      70.000000  \n",
      "\n",
      "\n",
      "Data on Cabin series C\n",
      "\n",
      "\n",
      "       PassengerId  Survived  Pclass        Age      SibSp      Parch  \\\n",
      "count    59.000000  59.00000    59.0  51.000000  59.000000  59.000000   \n",
      "mean    406.440678   0.59322     1.0  36.086667   0.644068   0.474576   \n",
      "std     237.405609   0.49545     0.0  14.379481   0.782628   0.878006   \n",
      "min       2.000000   0.00000     1.0   0.920000   0.000000   0.000000   \n",
      "25%     261.000000   0.00000     1.0  25.500000   0.000000   0.000000   \n",
      "50%     352.000000   1.00000     1.0  36.000000   1.000000   0.000000   \n",
      "75%     561.500000   1.00000     1.0  47.500000   1.000000   1.000000   \n",
      "max     890.000000   1.00000     1.0  64.000000   3.000000   4.000000   \n",
      "\n",
      "             Fare    AgeNull  AgeImputation  \n",
      "count   59.000000  59.000000      59.000000  \n",
      "mean   100.151341   0.135593      36.360413  \n",
      "std     70.225588   0.345295      13.369200  \n",
      "min     26.550000   0.000000       0.920000  \n",
      "25%     42.502100   0.000000      27.500000  \n",
      "50%     83.475000   0.000000      38.000000  \n",
      "75%    143.591650   0.000000      45.250000  \n",
      "max    263.000000   1.000000      64.000000  \n",
      "\n",
      "\n",
      "Data on Cabin series D\n",
      "\n",
      "\n",
      "       PassengerId   Survived     Pclass        Age      SibSp      Parch  \\\n",
      "count    33.000000  33.000000  33.000000  31.000000  33.000000  33.000000   \n",
      "mean    475.939394   0.757576   1.121212  39.032258   0.424242   0.303030   \n",
      "std     266.218066   0.435194   0.331434  14.460253   0.501890   0.585494   \n",
      "min      22.000000   0.000000   1.000000  16.000000   0.000000   0.000000   \n",
      "25%     249.000000   1.000000   1.000000  25.000000   0.000000   0.000000   \n",
      "50%     497.000000   1.000000   1.000000  37.000000   0.000000   0.000000   \n",
      "75%     682.000000   1.000000   1.000000  50.000000   1.000000   0.000000   \n",
      "max     872.000000   1.000000   2.000000  63.000000   1.000000   2.000000   \n",
      "\n",
      "             Fare    AgeNull  AgeImputation  \n",
      "count   33.000000  33.000000      33.000000  \n",
      "mean    57.244576   0.060606      38.976094  \n",
      "std     29.592832   0.242306      14.002881  \n",
      "min     12.875000   0.000000      16.000000  \n",
      "25%     30.000000   0.000000      27.000000  \n",
      "50%     53.100000   0.000000      38.105543  \n",
      "75%     77.287500   0.000000      49.000000  \n",
      "max    113.275000   1.000000      63.000000  \n",
      "\n",
      "\n",
      "Data on Cabin series E\n",
      "\n",
      "\n",
      "       PassengerId   Survived     Pclass        Age      SibSp      Parch  \\\n",
      "count    33.000000  33.000000  33.000000  30.000000  33.000000  33.000000   \n",
      "mean    491.121212   0.757576   1.363636  38.116667   0.333333   0.333333   \n",
      "std     240.292759   0.435194   0.699025  12.590146   0.478714   0.540062   \n",
      "min       7.000000   0.000000   1.000000   6.000000   0.000000   0.000000   \n",
      "25%     320.000000   1.000000   1.000000  30.500000   0.000000   0.000000   \n",
      "50%     463.000000   1.000000   1.000000  39.000000   0.000000   0.000000   \n",
      "75%     708.000000   1.000000   1.000000  47.000000   1.000000   1.000000   \n",
      "max     858.000000   1.000000   3.000000  65.000000   1.000000   2.000000   \n",
      "\n",
      "             Fare    AgeNull  AgeImputation  \n",
      "count   33.000000  33.000000      33.000000  \n",
      "mean    45.309470   0.090909      37.473448  \n",
      "std     32.358145   0.291937      12.272235  \n",
      "min      8.050000   0.000000       6.000000  \n",
      "25%     25.587500   0.000000      29.877630  \n",
      "50%     38.500000   0.000000      38.105543  \n",
      "75%     55.900000   0.000000      47.000000  \n",
      "max    134.500000   1.000000      65.000000  \n",
      "\n",
      "\n",
      "Data on Cabin series F\n",
      "\n",
      "\n",
      "       PassengerId   Survived     Pclass        Age      SibSp      Parch  \\\n",
      "count    13.000000  13.000000  13.000000  11.000000  13.000000  13.000000   \n",
      "mean    370.384615   0.615385   2.384615  19.954545   0.538462   0.538462   \n",
      "std     263.000171   0.506370   0.506370  15.182975   0.776250   0.660225   \n",
      "min      67.000000   0.000000   2.000000   1.000000   0.000000   0.000000   \n",
      "25%     149.000000   0.000000   2.000000   3.500000   0.000000   0.000000   \n",
      "50%     341.000000   1.000000   2.000000  24.000000   0.000000   0.000000   \n",
      "75%     619.000000   1.000000   3.000000  31.500000   1.000000   1.000000   \n",
      "max     777.000000   1.000000   3.000000  42.000000   2.000000   2.000000   \n",
      "\n",
      "            Fare    AgeNull  AgeImputation  \n",
      "count  13.000000  13.000000      13.000000  \n",
      "mean   18.696792   0.153846      20.752403  \n",
      "std    11.728217   0.375534      13.996257  \n",
      "min     7.650000   0.000000       1.000000  \n",
      "25%     7.750000   0.000000       4.000000  \n",
      "50%    13.000000   0.000000      25.000000  \n",
      "75%    26.000000   0.000000      29.000000  \n",
      "max    39.000000   1.000000      42.000000  \n"
     ]
    }
   ],
   "source": [
    "# The last clear problem feature is Cabin, which has more nulls than values\n",
    "# Let's review the statistics and distribution for Cabin feature based on null\n",
    "\n",
    "print(titanic_df['Cabin'].describe())\n",
    "\n",
    "print(titanic_df['Cabin'].unique())\n",
    "\n",
    "# Let's review the characteristics of those who are missing age\n",
    "titanic_df[titanic_df['Cabin'].isnull()].hist()\n",
    "plt.show()\n",
    "\n",
    "titanic_df.hist()\n",
    "plt.show()\n",
    "\n",
    "# And let's consider the statistics on age based on Pclass feature\n",
    "for cab in [\"A\", \"B\", \"C\", \"D\", \"E\", \"F\"]:\n",
    "    print(f\"\\n\\nData on Cabin series {cab}\\n\\n\")\n",
    "    print(titanic_df[~(titanic_df['Cabin'].isnull()) & (titanic_df['Cabin'].astype(str).str.contains(cab))].describe())"
   ]
  },
  {
   "cell_type": "markdown",
   "metadata": {},
   "source": [
    "### Feature Engineering"
   ]
  },
  {
   "cell_type": "code",
   "execution_count": 8,
   "metadata": {},
   "outputs": [],
   "source": [
    "# From that preliminary analysis, there appears to be significant differences in the characteristics\n",
    "# of the passengers based on cabin series code. To ensure a comprehensive analysis, let's build\n",
    "# a feature for each possible cabin code\n",
    "\n",
    "for cab in [\"A\", \"B\", \"C\", \"D\", \"E\", \"F\", \"G\"]:\n",
    "    titanic_df[f'CabinCode_{cab}'] = titanic_df['Cabin'].apply(lambda cabin: 1 if cab in str(cabin) else 0)\n",
    "    \n",
    "# We can also create a feature to capture those cabin codes that were null\n",
    "titanic_df['CabinNull'] = titanic_df['Cabin'].isnull().astype(\"category\").cat.codes"
   ]
  },
  {
   "cell_type": "code",
   "execution_count": 9,
   "metadata": {},
   "outputs": [],
   "source": [
    "# Let's start encoding this data into meaningful integers to help with our correlation analysis\n",
    "# We'll begin with low-hanging fruit, the features that are easily encoded into binary results\n",
    "\n",
    "# Our first new feature is simply pulling the Sex feature into binary codes, called GenderCode\n",
    "titanic_df['GenderCode'] = titanic_df['Sex'].astype(\"category\").cat.codes\n",
    "\n",
    "# Next we can begin bucketing some features into binary features that will help with identifying\n",
    "# certain categories of passengers\n",
    "\n",
    "# We'll begin with the Embarked feature, bucketing a new binary feature for each unique value and\n",
    "# one for null values.\n",
    "for letter in ['S', 'Q', 'C']:\n",
    "    titanic_df[f'Embarked_{letter}'] = titanic_df['Embarked'].apply(lambda embark: 1 if embark == letter else 0)\n",
    "\n",
    "# We can do the same thing for the different classes of passengers\n",
    "for _pclass in titanic_df['Pclass'].unique():\n",
    "    titanic_df[f\"Pclass_{_pclass}\"] = titanic_df['Pclass'].apply(lambda x: 1 if x == _pclass else 0)"
   ]
  },
  {
   "cell_type": "code",
   "execution_count": 10,
   "metadata": {},
   "outputs": [
    {
     "name": "stdout",
     "output_type": "stream",
     "text": [
      "The mean age of passengers was 29.24197358455993\n",
      "The median age of passengers was 26.0\n",
      "The bottom quartile of passenger ages was 22.0\n",
      "The mean fare of passengers was 32.09668087739029\n",
      "The median fare of passengers was 14.4542\n",
      "The mean fare of passengers was 7.8958\n"
     ]
    }
   ],
   "source": [
    "# Next, let's begin with some binary bucket features based on thresholds of other columns\n",
    "\n",
    "# The first feature we'll binary bucket is Age. We'll create two new features that capture whether\n",
    "# the passenger was older than average, or younger than the bottom quartile of age distribution\n",
    "\n",
    "titanic_df['AgeAboveAvg'] = titanic_df['AgeImputation'].apply(lambda age: 1 if age >= titanic_df['AgeImputation'].mean() else 0)\n",
    "\n",
    "titanic_df['AgeBelowQuartile'] = titanic_df['AgeImputation'].apply(lambda age: 1 if age <= titanic_df['AgeImputation'].quantile(0.25) else 0)\n",
    "\n",
    "print(f\"The mean age of passengers was {titanic_df['AgeImputation'].mean()}\")\n",
    "print(f\"The median age of passengers was {titanic_df['AgeImputation'].median()}\")\n",
    "print(f\"The bottom quartile of passenger ages was {titanic_df['AgeImputation'].quantile(0.25)}\")\n",
    "      \n",
    "# The second feature we'll binary bucket is Fare. We'll create three new features that capture\n",
    "# if the passenger paid over the average or median fare, or paid less than the bottom quartile of fares\n",
    "      \n",
    "\n",
    "titanic_df['FareAboveAvg'] = titanic_df['Fare'].apply(lambda fare: 1 if fare >= titanic_df['Fare'].mean() else 0)\n",
    "titanic_df['FareAboveMedian'] = titanic_df['Fare'].apply(lambda fare: 1 if fare >= titanic_df['Fare'].median() else 0)\n",
    "titanic_df['FareBelowQuartile'] = titanic_df['Fare'].apply(lambda fare: 1 if fare <= titanic_df['Fare'].quantile(0.25) else 0)\n",
    "\n",
    "print(f\"The mean fare of passengers was {titanic_df['Fare'].mean()}\")\n",
    "print(f\"The median fare of passengers was {titanic_df['Fare'].median()}\")\n",
    "print(f\"The mean fare of passengers was {titanic_df['Fare'].quantile(0.25)}\")"
   ]
  },
  {
   "cell_type": "code",
   "execution_count": 11,
   "metadata": {},
   "outputs": [],
   "source": [
    "# Finally, let's create some new features that describe our other features in a (hopefully)\n",
    "# meaningful manner. We'll create three new features here, 2 based on passenger names and\n",
    "# one based on their ticket.\n",
    "\n",
    "\n",
    "# First, let's break down the salutation contained within their name. A cursory glance at the dataframe\n",
    "# showed many had the salutations Mr, Mrs and Miss. Let's create separate binary buckets for each.\n",
    "# Intuition and some domain knowledge suggest that women's names will be treated different than men, \n",
    "# but a breakdown between Miss. and Mrs. provides more granular details.\n",
    "for salutation in [\"Mr.\", \"Miss.\", \"Mrs.\"]:\n",
    "    titanic_df[salutation] = titanic_df['Name'].apply(lambda name: 1 if salutation in str(name) else 0)\n",
    "\n",
    "# Then, let's see if the name's overall length provides any type of correlation to survival. \n",
    "titanic_df['NameLength'] = titanic_df['Name'].apply(lambda name: len(str(name)))\n",
    "\n",
    "# Finally, a glance at the ticket feature reveals some tickets contain letters. Let's create a new\n",
    "# feature to capture those passengers who contain a letter in their ticket number.\n",
    "titanic_df['LetterTicket'] = titanic_df['Ticket'].apply(lambda ticket: 0 if str(ticket).isdigit() else 1)"
   ]
  },
  {
   "cell_type": "code",
   "execution_count": 12,
   "metadata": {},
   "outputs": [
    {
     "name": "stdout",
     "output_type": "stream",
     "text": [
      "Index(['PassengerId', 'Survived', 'Pclass', 'Name', 'Sex', 'Age', 'SibSp',\n",
      "       'Parch', 'Ticket', 'Fare', 'Cabin', 'Embarked', 'AgeNull',\n",
      "       'AgeImputation', 'CabinCode_A', 'CabinCode_B', 'CabinCode_C',\n",
      "       'CabinCode_D', 'CabinCode_E', 'CabinCode_F', 'CabinCode_G', 'CabinNull',\n",
      "       'GenderCode', 'Embarked_S', 'Embarked_Q', 'Embarked_C', 'Pclass_3',\n",
      "       'Pclass_1', 'Pclass_2', 'AgeAboveAvg', 'AgeBelowQuartile',\n",
      "       'FareAboveAvg', 'FareAboveMedian', 'FareBelowQuartile', 'Mr.', 'Miss.',\n",
      "       'Mrs.', 'NameLength', 'LetterTicket'],\n",
      "      dtype='object')\n",
      "<class 'pandas.core.frame.DataFrame'>\n",
      "Int64Index: 889 entries, 0 to 890\n",
      "Data columns (total 39 columns):\n",
      " #   Column             Non-Null Count  Dtype  \n",
      "---  ------             --------------  -----  \n",
      " 0   PassengerId        889 non-null    int64  \n",
      " 1   Survived           889 non-null    int64  \n",
      " 2   Pclass             889 non-null    int64  \n",
      " 3   Name               889 non-null    object \n",
      " 4   Sex                889 non-null    object \n",
      " 5   Age                712 non-null    float64\n",
      " 6   SibSp              889 non-null    int64  \n",
      " 7   Parch              889 non-null    int64  \n",
      " 8   Ticket             889 non-null    object \n",
      " 9   Fare               889 non-null    float64\n",
      " 10  Cabin              202 non-null    object \n",
      " 11  Embarked           889 non-null    object \n",
      " 12  AgeNull            889 non-null    int8   \n",
      " 13  AgeImputation      889 non-null    float64\n",
      " 14  CabinCode_A        889 non-null    int64  \n",
      " 15  CabinCode_B        889 non-null    int64  \n",
      " 16  CabinCode_C        889 non-null    int64  \n",
      " 17  CabinCode_D        889 non-null    int64  \n",
      " 18  CabinCode_E        889 non-null    int64  \n",
      " 19  CabinCode_F        889 non-null    int64  \n",
      " 20  CabinCode_G        889 non-null    int64  \n",
      " 21  CabinNull          889 non-null    int8   \n",
      " 22  GenderCode         889 non-null    int8   \n",
      " 23  Embarked_S         889 non-null    int64  \n",
      " 24  Embarked_Q         889 non-null    int64  \n",
      " 25  Embarked_C         889 non-null    int64  \n",
      " 26  Pclass_3           889 non-null    int64  \n",
      " 27  Pclass_1           889 non-null    int64  \n",
      " 28  Pclass_2           889 non-null    int64  \n",
      " 29  AgeAboveAvg        889 non-null    int64  \n",
      " 30  AgeBelowQuartile   889 non-null    int64  \n",
      " 31  FareAboveAvg       889 non-null    int64  \n",
      " 32  FareAboveMedian    889 non-null    int64  \n",
      " 33  FareBelowQuartile  889 non-null    int64  \n",
      " 34  Mr.                889 non-null    int64  \n",
      " 35  Miss.              889 non-null    int64  \n",
      " 36  Mrs.               889 non-null    int64  \n",
      " 37  NameLength         889 non-null    int64  \n",
      " 38  LetterTicket       889 non-null    int64  \n",
      "dtypes: float64(3), int64(28), int8(3), object(5)\n",
      "memory usage: 259.6+ KB\n",
      "None\n"
     ]
    }
   ],
   "source": [
    "# With the features now created, let's check on what the result of this new dataframe looks like.\n",
    "\n",
    "print(titanic_df.columns)\n",
    "\n",
    "print(titanic_df.info())"
   ]
  },
  {
   "cell_type": "markdown",
   "metadata": {},
   "source": [
    "### Data Analysis and Survived Correlations"
   ]
  },
  {
   "cell_type": "code",
   "execution_count": 13,
   "metadata": {},
   "outputs": [
    {
     "data": {
      "text/plain": [
       "Survived             1.000000\n",
       "Mrs.                 0.337892\n",
       "NameLength           0.332582\n",
       "Miss.                0.326352\n",
       "Pclass_1             0.282368\n",
       "FareAboveMedian      0.265168\n",
       "Fare                 0.255290\n",
       "FareAboveAvg         0.240529\n",
       "Embarked_C           0.169966\n",
       "CabinCode_B          0.166714\n",
       "CabinCode_E          0.151555\n",
       "CabinCode_D          0.151555\n",
       "CabinCode_C          0.115629\n",
       "Pclass_2             0.095002\n",
       "Parch                0.083151\n",
       "CabinCode_F          0.058388\n",
       "AgeBelowQuartile     0.050950\n",
       "AgeAboveAvg          0.041690\n",
       "CabinCode_A          0.022701\n",
       "Embarked_Q           0.004536\n",
       "LetterTicket         0.000190\n",
       "CabinCode_G         -0.017733\n",
       "SibSp               -0.034040\n",
       "AgeImputation       -0.055347\n",
       "AgeNull             -0.090967\n",
       "Embarked_S          -0.151777\n",
       "FareBelowQuartile   -0.220444\n",
       "CabinNull           -0.313435\n",
       "Pclass_3            -0.320171\n",
       "GenderCode          -0.541585\n",
       "Mr.                 -0.547689\n",
       "Name: Survived, dtype: float64"
      ]
     },
     "execution_count": 13,
     "metadata": {},
     "output_type": "execute_result"
    }
   ],
   "source": [
    "# With 38 columns now to work with, we can begin our work analyzing the correlation between\n",
    "# our passenger features and the survival rate.\n",
    "\n",
    "# First let's trim the dataset from feature columns that won't provide insights.\n",
    "\n",
    "titanic_df.drop(['PassengerId',\n",
    " 'Pclass',\n",
    " 'Name',\n",
    " 'Sex',\n",
    " 'Age',\n",
    " 'Ticket',\n",
    " 'Cabin',\n",
    " 'Embarked'], axis=1, inplace=True)\n",
    "\n",
    "# Let's see the output of the titanic_df correlation for all features against Survival.\n",
    "# Since titanic_df.corr() method returns a dataframe itself, we can column call into it.\n",
    "survival_corrs = titanic_df.corr()['Survived']\n",
    "survival_corrs.sort_values(ascending=False)"
   ]
  },
  {
   "cell_type": "code",
   "execution_count": 14,
   "metadata": {},
   "outputs": [
    {
     "data": {
      "text/plain": [
       "<matplotlib.axes._subplots.AxesSubplot at 0x1d3d97aee80>"
      ]
     },
     "execution_count": 14,
     "metadata": {},
     "output_type": "execute_result"
    },
    {
     "data": {
      "image/png": "[encoded data removed]",
      "text/plain": [
       "<Figure size 1440x1440 with 2 Axes>"
      ]
     },
     "metadata": {
      "needs_background": "light"
     },
     "output_type": "display_data"
    }
   ],
   "source": [
    "# Visualizing the correlations between variables. Of key importance is the Survived column of the\n",
    "# full correlation table. Visible at the far right of the heatmap visualization below.\n",
    "\n",
    "full_corr_table = titanic_df.corr()\n",
    "\n",
    "# Set a larger figure\n",
    "plt.figure(figsize=(20,20))\n",
    "\n",
    "# Using a nice seaborn visualization for the matrix\n",
    "sns.heatmap(full_corr_table.loc['SibSp':, 'SibSp':].join(survival_corrs['SibSp':]),\n",
    "           cmap='viridis')"
   ]
  },
  {
   "cell_type": "code",
   "execution_count": 15,
   "metadata": {},
   "outputs": [
    {
     "data": {
      "text/plain": [
       "<seaborn.axisgrid.FacetGrid at 0x1d3d95fa0b8>"
      ]
     },
     "execution_count": 15,
     "metadata": {},
     "output_type": "execute_result"
    },
    {
     "data": {
      "image/png": "[encoded data removed]",
      "text/plain": [
       "<Figure size 1152x576 with 2 Axes>"
      ]
     },
     "metadata": {
      "needs_background": "light"
     },
     "output_type": "display_data"
    }
   ],
   "source": [
    "# Exploring the data a little more indepth with some more seaborn visualizations\n",
    "\n",
    "# Starting with a visualization explaining the correlation between Survived, NameLength and passenger class\n",
    "\n",
    "sns.catplot(data=titanic_df, x='NameLength', y='Survived', row='Pclass_1', kind='box',\n",
    "           orient='h', height=4, aspect=4)"
   ]
  },
  {
   "cell_type": "code",
   "execution_count": 16,
   "metadata": {},
   "outputs": [
    {
     "data": {
      "text/plain": [
       "<seaborn.axisgrid.FacetGrid at 0x1d3d97aef28>"
      ]
     },
     "execution_count": 16,
     "metadata": {},
     "output_type": "execute_result"
    },
    {
     "data": {
      "image/png": "[encoded data removed]",
      "text/plain": [
       "<Figure size 1728x576 with 4 Axes>"
      ]
     },
     "metadata": {
      "needs_background": "light"
     },
     "output_type": "display_data"
    }
   ],
   "source": [
    "# A more indepth categorical visualization for survived based on fare, Mrs. salutation and class\n",
    "\n",
    "sns.catplot(data=titanic_df, x='Fare', y='Survived', row='Mrs.', kind='box',\n",
    "           col='Pclass_1', orient='h', height=4, aspect=3)"
   ]
  },
  {
   "cell_type": "code",
   "execution_count": 17,
   "metadata": {},
   "outputs": [
    {
     "data": {
      "text/plain": [
       "<seaborn.axisgrid.FacetGrid at 0x1d3d99239b0>"
      ]
     },
     "execution_count": 17,
     "metadata": {},
     "output_type": "execute_result"
    },
    {
     "data": {
      "image/png": "[encoded data removed]",
      "text/plain": [
       "<Figure size 360x360 with 1 Axes>"
      ]
     },
     "metadata": {
      "needs_background": "light"
     },
     "output_type": "display_data"
    }
   ],
   "source": [
    "# Visualizing the correlation between GenderCode and NameLength\n",
    "\n",
    "sns.catplot(data=titanic_df, x='GenderCode', y='NameLength', kind='box')"
   ]
  },
  {
   "cell_type": "code",
   "execution_count": 18,
   "metadata": {},
   "outputs": [
    {
     "data": {
      "text/html": [
       "<div>\n",
       "<style scoped>\n",
       "    .dataframe tbody tr th:only-of-type {\n",
       "        vertical-align: middle;\n",
       "    }\n",
       "\n",
       "    .dataframe tbody tr th {\n",
       "        vertical-align: top;\n",
       "    }\n",
       "\n",
       "    .dataframe thead th {\n",
       "        text-align: right;\n",
       "    }\n",
       "</style>\n",
       "<table border=\"1\" class=\"dataframe\">\n",
       "  <thead>\n",
       "    <tr style=\"text-align: right;\">\n",
       "      <th></th>\n",
       "      <th>Survived</th>\n",
       "    </tr>\n",
       "  </thead>\n",
       "  <tbody>\n",
       "    <tr>\n",
       "      <th>1</th>\n",
       "      <td>1</td>\n",
       "    </tr>\n",
       "    <tr>\n",
       "      <th>3</th>\n",
       "      <td>1</td>\n",
       "    </tr>\n",
       "    <tr>\n",
       "      <th>31</th>\n",
       "      <td>1</td>\n",
       "    </tr>\n",
       "    <tr>\n",
       "      <th>52</th>\n",
       "      <td>1</td>\n",
       "    </tr>\n",
       "    <tr>\n",
       "      <th>151</th>\n",
       "      <td>1</td>\n",
       "    </tr>\n",
       "    <tr>\n",
       "      <th>166</th>\n",
       "      <td>1</td>\n",
       "    </tr>\n",
       "    <tr>\n",
       "      <th>194</th>\n",
       "      <td>1</td>\n",
       "    </tr>\n",
       "    <tr>\n",
       "      <th>230</th>\n",
       "      <td>1</td>\n",
       "    </tr>\n",
       "    <tr>\n",
       "      <th>256</th>\n",
       "      <td>1</td>\n",
       "    </tr>\n",
       "    <tr>\n",
       "      <th>268</th>\n",
       "      <td>1</td>\n",
       "    </tr>\n",
       "    <tr>\n",
       "      <th>291</th>\n",
       "      <td>1</td>\n",
       "    </tr>\n",
       "    <tr>\n",
       "      <th>299</th>\n",
       "      <td>1</td>\n",
       "    </tr>\n",
       "    <tr>\n",
       "      <th>307</th>\n",
       "      <td>1</td>\n",
       "    </tr>\n",
       "    <tr>\n",
       "      <th>319</th>\n",
       "      <td>1</td>\n",
       "    </tr>\n",
       "    <tr>\n",
       "      <th>334</th>\n",
       "      <td>1</td>\n",
       "    </tr>\n",
       "    <tr>\n",
       "      <th>366</th>\n",
       "      <td>1</td>\n",
       "    </tr>\n",
       "    <tr>\n",
       "      <th>375</th>\n",
       "      <td>1</td>\n",
       "    </tr>\n",
       "    <tr>\n",
       "      <th>383</th>\n",
       "      <td>1</td>\n",
       "    </tr>\n",
       "    <tr>\n",
       "      <th>457</th>\n",
       "      <td>1</td>\n",
       "    </tr>\n",
       "    <tr>\n",
       "      <th>486</th>\n",
       "      <td>1</td>\n",
       "    </tr>\n",
       "    <tr>\n",
       "      <th>498</th>\n",
       "      <td>0</td>\n",
       "    </tr>\n",
       "    <tr>\n",
       "      <th>513</th>\n",
       "      <td>1</td>\n",
       "    </tr>\n",
       "    <tr>\n",
       "      <th>523</th>\n",
       "      <td>1</td>\n",
       "    </tr>\n",
       "    <tr>\n",
       "      <th>558</th>\n",
       "      <td>1</td>\n",
       "    </tr>\n",
       "    <tr>\n",
       "      <th>571</th>\n",
       "      <td>1</td>\n",
       "    </tr>\n",
       "    <tr>\n",
       "      <th>577</th>\n",
       "      <td>1</td>\n",
       "    </tr>\n",
       "    <tr>\n",
       "      <th>581</th>\n",
       "      <td>1</td>\n",
       "    </tr>\n",
       "    <tr>\n",
       "      <th>591</th>\n",
       "      <td>1</td>\n",
       "    </tr>\n",
       "    <tr>\n",
       "      <th>669</th>\n",
       "      <td>1</td>\n",
       "    </tr>\n",
       "    <tr>\n",
       "      <th>700</th>\n",
       "      <td>1</td>\n",
       "    </tr>\n",
       "    <tr>\n",
       "      <th>763</th>\n",
       "      <td>1</td>\n",
       "    </tr>\n",
       "    <tr>\n",
       "      <th>765</th>\n",
       "      <td>1</td>\n",
       "    </tr>\n",
       "    <tr>\n",
       "      <th>779</th>\n",
       "      <td>1</td>\n",
       "    </tr>\n",
       "    <tr>\n",
       "      <th>781</th>\n",
       "      <td>1</td>\n",
       "    </tr>\n",
       "    <tr>\n",
       "      <th>809</th>\n",
       "      <td>1</td>\n",
       "    </tr>\n",
       "    <tr>\n",
       "      <th>820</th>\n",
       "      <td>1</td>\n",
       "    </tr>\n",
       "    <tr>\n",
       "      <th>849</th>\n",
       "      <td>1</td>\n",
       "    </tr>\n",
       "    <tr>\n",
       "      <th>856</th>\n",
       "      <td>1</td>\n",
       "    </tr>\n",
       "    <tr>\n",
       "      <th>862</th>\n",
       "      <td>1</td>\n",
       "    </tr>\n",
       "    <tr>\n",
       "      <th>871</th>\n",
       "      <td>1</td>\n",
       "    </tr>\n",
       "    <tr>\n",
       "      <th>879</th>\n",
       "      <td>1</td>\n",
       "    </tr>\n",
       "  </tbody>\n",
       "</table>\n",
       "</div>"
      ],
      "text/plain": [
       "     Survived\n",
       "1           1\n",
       "3           1\n",
       "31          1\n",
       "52          1\n",
       "151         1\n",
       "166         1\n",
       "194         1\n",
       "230         1\n",
       "256         1\n",
       "268         1\n",
       "291         1\n",
       "299         1\n",
       "307         1\n",
       "319         1\n",
       "334         1\n",
       "366         1\n",
       "375         1\n",
       "383         1\n",
       "457         1\n",
       "486         1\n",
       "498         0\n",
       "513         1\n",
       "523         1\n",
       "558         1\n",
       "571         1\n",
       "577         1\n",
       "581         1\n",
       "591         1\n",
       "669         1\n",
       "700         1\n",
       "763         1\n",
       "765         1\n",
       "779         1\n",
       "781         1\n",
       "809         1\n",
       "820         1\n",
       "849         1\n",
       "856         1\n",
       "862         1\n",
       "871         1\n",
       "879         1"
      ]
     },
     "execution_count": 18,
     "metadata": {},
     "output_type": "execute_result"
    }
   ],
   "source": [
    "# Exploring the dataset with the categories most correlated with survival \n",
    "\n",
    "titanic_df.loc[\n",
    "    (titanic_df['Mrs.'] == 1) &\\\n",
    "    (titanic_df['Pclass_1'] == 1) &\\\n",
    "    (titanic_df['FareAboveMedian'] == 1),\n",
    "    ['Survived']\n",
    "]"
   ]
  },
  {
   "cell_type": "code",
   "execution_count": 19,
   "metadata": {},
   "outputs": [
    {
     "data": {
      "text/plain": [
       "Index(['Survived', 'SibSp', 'Parch', 'Fare', 'AgeNull', 'AgeImputation',\n",
       "       'CabinCode_A', 'CabinCode_B', 'CabinCode_C', 'CabinCode_D',\n",
       "       'CabinCode_E', 'CabinCode_F', 'CabinCode_G', 'CabinNull', 'GenderCode',\n",
       "       'Embarked_S', 'Embarked_Q', 'Embarked_C', 'Pclass_3', 'Pclass_1',\n",
       "       'Pclass_2', 'AgeAboveAvg', 'AgeBelowQuartile', 'FareAboveAvg',\n",
       "       'FareAboveMedian', 'FareBelowQuartile', 'Mr.', 'Miss.', 'Mrs.',\n",
       "       'NameLength', 'LetterTicket'],\n",
       "      dtype='object')"
      ]
     },
     "execution_count": 19,
     "metadata": {},
     "output_type": "execute_result"
    }
   ],
   "source": [
    "# output of features used\n",
    "\n",
    "titanic_df.columns"
   ]
  },
  {
   "cell_type": "code",
   "execution_count": null,
   "metadata": {},
   "outputs": [],
   "source": []
  }
 ],
 "metadata": {
  "kernelspec": {
   "display_name": "Python 3",
   "language": "python",
   "name": "python3"
  },
  "language_info": {
   "codemirror_mode": {
    "name": "ipython",
    "version": 3
   },
   "file_extension": ".py",
   "mimetype": "text/x-python",
   "name": "python",
   "nbconvert_exporter": "python",
   "pygments_lexer": "ipython3",
   "version": "3.7.3"
  },
  "toc": {
   "base_numbering": 1,
   "nav_menu": {},
   "number_sections": false,
   "sideBar": true,
   "skip_h1_title": false,
   "title_cell": "Table of Contents",
   "title_sidebar": "Contents",
   "toc_cell": false,
   "toc_position": {},
   "toc_section_display": true,
   "toc_window_display": false
  }
 },
 "nbformat": 4,
 "nbformat_minor": 2
}
